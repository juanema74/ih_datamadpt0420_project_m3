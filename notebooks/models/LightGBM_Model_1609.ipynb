{
 "cells": [
  {
   "cell_type": "code",
   "execution_count": 22,
   "metadata": {},
   "outputs": [],
   "source": [
    "import numpy as np\n",
    "import pandas as pd\n",
    "import lightgbm as lgb\n",
    "\n",
    "from sklearn.metrics import mean_squared_error\n",
    "from sklearn.model_selection import GridSearchCV\n",
    "from sklearn.datasets import make_classification"
   ]
  },
  {
   "cell_type": "code",
   "execution_count": 23,
   "metadata": {},
   "outputs": [],
   "source": [
    "from IPython.display import set_matplotlib_formats\n",
    "import matplotlib.pyplot as plt\n",
    "from matplotlib.colors import ListedColormap\n",
    "import numpy as np\n",
    "import pandas as pd\n",
    "\n",
    "%matplotlib inline\n",
    "set_matplotlib_formats('svg')"
   ]
  },
  {
   "cell_type": "markdown",
   "metadata": {},
   "source": [
    "DATA LOADING"
   ]
  },
  {
   "cell_type": "code",
   "execution_count": 24,
   "metadata": {},
   "outputs": [],
   "source": [
    "df_train = pd.read_csv('../data/diamonds_train.csv')\n",
    "df_test = pd.read_csv('../data/diamonds_predict.csv')"
   ]
  },
  {
   "cell_type": "code",
   "execution_count": 25,
   "metadata": {},
   "outputs": [],
   "source": [
    "X, y = make_classification(n_features=3, n_redundant=0, n_informative=2,\n",
    "                           random_state=42, n_clusters_per_class=1, n_samples=5000)"
   ]
  },
  {
   "cell_type": "code",
   "execution_count": 26,
   "metadata": {},
   "outputs": [],
   "source": [
    "from sklearn.tree import DecisionTreeClassifier\n",
    "from sklearn.model_selection import train_test_split"
   ]
  },
  {
   "cell_type": "code",
   "execution_count": 27,
   "metadata": {},
   "outputs": [],
   "source": [
    "X_train, X_test, y_train, y_test = train_test_split(X, y)"
   ]
  },
  {
   "cell_type": "code",
   "execution_count": 28,
   "metadata": {},
   "outputs": [],
   "source": [
    "target = 'price'\n",
    "cat_features = ['cut', 'color', 'clarity']\n",
    "num_features = ['carat', 'depth','table']\n",
    "features = num_features + cat_features"
   ]
  },
  {
   "cell_type": "markdown",
   "metadata": {},
   "source": [
    "TRAIN"
   ]
  },
  {
   "cell_type": "code",
   "execution_count": null,
   "metadata": {},
   "outputs": [
    {
     "name": "stdout",
     "output_type": "stream",
     "text": [
      "[1]\tvalid_0's l2: 0.228447\tvalid_0's binary_logloss: 0.65\n",
      "Training until validation scores don't improve for 5 rounds\n",
      "[2]\tvalid_0's l2: 0.208772\tvalid_0's binary_logloss: 0.610437\n",
      "[3]\tvalid_0's l2: 0.191047\tvalid_0's binary_logloss: 0.57449\n",
      "[4]\tvalid_0's l2: 0.175113\tvalid_0's binary_logloss: 0.541788\n",
      "[5]\tvalid_0's l2: 0.160724\tvalid_0's binary_logloss: 0.511819\n",
      "[6]\tvalid_0's l2: 0.147776\tvalid_0's binary_logloss: 0.484374\n",
      "[7]\tvalid_0's l2: 0.136103\tvalid_0's binary_logloss: 0.459127\n",
      "[8]\tvalid_0's l2: 0.125523\tvalid_0's binary_logloss: 0.435743\n",
      "[9]\tvalid_0's l2: 0.116059\tvalid_0's binary_logloss: 0.414318\n",
      "[10]\tvalid_0's l2: 0.107441\tvalid_0's binary_logloss: 0.394307\n",
      "[11]\tvalid_0's l2: 0.0997344\tvalid_0's binary_logloss: 0.375906\n",
      "[12]\tvalid_0's l2: 0.0927159\tvalid_0's binary_logloss: 0.35869\n",
      "[13]\tvalid_0's l2: 0.0863946\tvalid_0's binary_logloss: 0.342721\n",
      "[14]\tvalid_0's l2: 0.080675\tvalid_0's binary_logloss: 0.327813\n",
      "[15]\tvalid_0's l2: 0.075513\tvalid_0's binary_logloss: 0.313925\n",
      "[16]\tvalid_0's l2: 0.0708345\tvalid_0's binary_logloss: 0.300966\n",
      "[17]\tvalid_0's l2: 0.0665083\tvalid_0's binary_logloss: 0.288615\n",
      "[18]\tvalid_0's l2: 0.0626044\tvalid_0's binary_logloss: 0.277098\n",
      "[19]\tvalid_0's l2: 0.0590815\tvalid_0's binary_logloss: 0.26633\n",
      "[20]\tvalid_0's l2: 0.0558868\tvalid_0's binary_logloss: 0.256233\n",
      "[21]\tvalid_0's l2: 0.0529417\tvalid_0's binary_logloss: 0.24664\n",
      "[22]\tvalid_0's l2: 0.0503639\tvalid_0's binary_logloss: 0.237834\n",
      "[23]\tvalid_0's l2: 0.0479759\tvalid_0's binary_logloss: 0.229446\n",
      "[24]\tvalid_0's l2: 0.0458632\tvalid_0's binary_logloss: 0.221679\n",
      "[25]\tvalid_0's l2: 0.0439298\tvalid_0's binary_logloss: 0.214333\n",
      "[26]\tvalid_0's l2: 0.0421934\tvalid_0's binary_logloss: 0.207426\n",
      "[27]\tvalid_0's l2: 0.0406323\tvalid_0's binary_logloss: 0.20101\n",
      "[28]\tvalid_0's l2: 0.0390495\tvalid_0's binary_logloss: 0.194617\n",
      "[29]\tvalid_0's l2: 0.037645\tvalid_0's binary_logloss: 0.188686\n",
      "[30]\tvalid_0's l2: 0.0364\tvalid_0's binary_logloss: 0.183152\n",
      "[31]\tvalid_0's l2: 0.0353713\tvalid_0's binary_logloss: 0.178199\n",
      "[32]\tvalid_0's l2: 0.0342772\tvalid_0's binary_logloss: 0.173093\n",
      "[33]\tvalid_0's l2: 0.0331934\tvalid_0's binary_logloss: 0.167937\n",
      "[34]\tvalid_0's l2: 0.0323043\tvalid_0's binary_logloss: 0.163487\n",
      "[35]\tvalid_0's l2: 0.0314522\tvalid_0's binary_logloss: 0.159181\n",
      "[36]\tvalid_0's l2: 0.0306199\tvalid_0's binary_logloss: 0.154908\n",
      "[37]\tvalid_0's l2: 0.0299738\tvalid_0's binary_logloss: 0.151213\n",
      "[38]\tvalid_0's l2: 0.0293225\tvalid_0's binary_logloss: 0.147484\n",
      "[39]\tvalid_0's l2: 0.0288169\tvalid_0's binary_logloss: 0.144268\n",
      "[40]\tvalid_0's l2: 0.0282233\tvalid_0's binary_logloss: 0.140806\n",
      "[41]\tvalid_0's l2: 0.0277786\tvalid_0's binary_logloss: 0.137872\n",
      "[42]\tvalid_0's l2: 0.0273796\tvalid_0's binary_logloss: 0.135094\n",
      "[43]\tvalid_0's l2: 0.0269017\tvalid_0's binary_logloss: 0.132159\n",
      "[44]\tvalid_0's l2: 0.0264659\tvalid_0's binary_logloss: 0.129425\n",
      "[45]\tvalid_0's l2: 0.0260871\tvalid_0's binary_logloss: 0.12691\n",
      "[46]\tvalid_0's l2: 0.0257542\tvalid_0's binary_logloss: 0.124577\n",
      "[47]\tvalid_0's l2: 0.0254404\tvalid_0's binary_logloss: 0.122367\n",
      "[48]\tvalid_0's l2: 0.0251815\tvalid_0's binary_logloss: 0.120341\n",
      "[49]\tvalid_0's l2: 0.0249141\tvalid_0's binary_logloss: 0.118405\n",
      "[50]\tvalid_0's l2: 0.0247047\tvalid_0's binary_logloss: 0.116595\n",
      "[51]\tvalid_0's l2: 0.0244971\tvalid_0's binary_logloss: 0.114854\n",
      "[52]\tvalid_0's l2: 0.0242733\tvalid_0's binary_logloss: 0.113195\n",
      "[53]\tvalid_0's l2: 0.024046\tvalid_0's binary_logloss: 0.111584\n",
      "[54]\tvalid_0's l2: 0.0238061\tvalid_0's binary_logloss: 0.109975\n",
      "[55]\tvalid_0's l2: 0.0236615\tvalid_0's binary_logloss: 0.108658\n",
      "[56]\tvalid_0's l2: 0.0234842\tvalid_0's binary_logloss: 0.107284\n",
      "[57]\tvalid_0's l2: 0.0233247\tvalid_0's binary_logloss: 0.106045\n",
      "[58]\tvalid_0's l2: 0.0231536\tvalid_0's binary_logloss: 0.104793\n",
      "[59]\tvalid_0's l2: 0.0230327\tvalid_0's binary_logloss: 0.103717\n",
      "[60]\tvalid_0's l2: 0.0228948\tvalid_0's binary_logloss: 0.102642\n",
      "[61]\tvalid_0's l2: 0.0227547\tvalid_0's binary_logloss: 0.101655\n",
      "[62]\tvalid_0's l2: 0.0226044\tvalid_0's binary_logloss: 0.100673\n",
      "[63]\tvalid_0's l2: 0.0225096\tvalid_0's binary_logloss: 0.0997723\n",
      "[64]\tvalid_0's l2: 0.0224308\tvalid_0's binary_logloss: 0.0990152\n",
      "[65]\tvalid_0's l2: 0.0222528\tvalid_0's binary_logloss: 0.0980822\n",
      "[66]\tvalid_0's l2: 0.0221511\tvalid_0's binary_logloss: 0.0972683\n",
      "[67]\tvalid_0's l2: 0.0221257\tvalid_0's binary_logloss: 0.0967058\n",
      "[68]\tvalid_0's l2: 0.0219793\tvalid_0's binary_logloss: 0.0958302\n",
      "[69]\tvalid_0's l2: 0.021908\tvalid_0's binary_logloss: 0.0953204\n",
      "[70]\tvalid_0's l2: 0.0217419\tvalid_0's binary_logloss: 0.0944292\n",
      "[71]\tvalid_0's l2: 0.0216669\tvalid_0's binary_logloss: 0.0938424\n",
      "[72]\tvalid_0's l2: 0.0215786\tvalid_0's binary_logloss: 0.0932364\n",
      "[73]\tvalid_0's l2: 0.021448\tvalid_0's binary_logloss: 0.0926384\n",
      "[74]\tvalid_0's l2: 0.0213689\tvalid_0's binary_logloss: 0.0921014\n",
      "[75]\tvalid_0's l2: 0.0212823\tvalid_0's binary_logloss: 0.0915781\n",
      "[76]\tvalid_0's l2: 0.021262\tvalid_0's binary_logloss: 0.0913743\n",
      "[77]\tvalid_0's l2: 0.0212244\tvalid_0's binary_logloss: 0.0911512\n",
      "[78]\tvalid_0's l2: 0.0212022\tvalid_0's binary_logloss: 0.0908643\n",
      "[79]\tvalid_0's l2: 0.0211574\tvalid_0's binary_logloss: 0.0904954\n",
      "[80]\tvalid_0's l2: 0.0211984\tvalid_0's binary_logloss: 0.0904391\n",
      "[81]\tvalid_0's l2: 0.0212434\tvalid_0's binary_logloss: 0.0904168\n",
      "[82]\tvalid_0's l2: 0.0212942\tvalid_0's binary_logloss: 0.0903698\n",
      "[83]\tvalid_0's l2: 0.0213283\tvalid_0's binary_logloss: 0.0902443\n",
      "[84]\tvalid_0's l2: 0.0213946\tvalid_0's binary_logloss: 0.0902755\n",
      "Early stopping, best iteration is:\n",
      "[79]\tvalid_0's l2: 0.0211574\tvalid_0's binary_logloss: 0.0904954\n"
     ]
    }
   ],
   "source": [
    "model = lgb.LGBMClassifier(num_leaves=40,\n",
    "                        learning_rate=0.05,\n",
    "                        n_estimators=128,\n",
    "                        max_depth=16,\n",
    "                        n_jobs=-1)\n",
    "model.fit(X_train, y_train,\n",
    "        eval_set=[(X_test, y_test)],\n",
    "        eval_metric='l2',\n",
    "        early_stopping_rounds=5)\n",
    "\n",
    "model.fit(df_train[num_features], df_train[target])"
   ]
  },
  {
   "cell_type": "markdown",
   "metadata": {},
   "source": [
    "PREDICTION"
   ]
  },
  {
   "cell_type": "code",
   "execution_count": null,
   "metadata": {},
   "outputs": [],
   "source": [
    "#pred\n",
    "y_pred = model.predict(X_test, num_iteration=model.best_iteration_)\n",
    "# eval\n",
    "print('The RMSE of prediction is:', mean_squared_error(y_test, y_pred) ** 0.5)"
   ]
  },
  {
   "cell_type": "code",
   "execution_count": 19,
   "metadata": {},
   "outputs": [],
   "source": [
    "def rmsle(y_true, y_pred):\n",
    "    return 'RMSLE', np.sqrt(np.mean(np.power(np.log1p(y_pred) - np.log1p(y_true), 2))), False"
   ]
  },
  {
   "cell_type": "code",
   "execution_count": 20,
   "metadata": {},
   "outputs": [
    {
     "ename": "LightGBMError",
     "evalue": "Number of classes should be specified and greater than 1 for multiclass training",
     "output_type": "error",
     "traceback": [
      "\u001b[0;31m---------------------------------------------------------------------------\u001b[0m",
      "\u001b[0;31mLightGBMError\u001b[0m                             Traceback (most recent call last)",
      "\u001b[0;32m/opt/miniconda3/envs/ironhack_env/lib/python3.7/site-packages/lightgbm/engine.py\u001b[0m in \u001b[0;36mtrain\u001b[0;34m(params, train_set, num_boost_round, valid_sets, valid_names, fobj, feval, init_model, feature_name, categorical_feature, early_stopping_rounds, evals_result, verbose_eval, learning_rates, keep_training_booster, callbacks)\u001b[0m\n\u001b[1;32m    227\u001b[0m     \u001b[0;32mtry\u001b[0m\u001b[0;34m:\u001b[0m\u001b[0;34m\u001b[0m\u001b[0;34m\u001b[0m\u001b[0m\n\u001b[0;32m--> 228\u001b[0;31m         \u001b[0mbooster\u001b[0m \u001b[0;34m=\u001b[0m \u001b[0mBooster\u001b[0m\u001b[0;34m(\u001b[0m\u001b[0mparams\u001b[0m\u001b[0;34m=\u001b[0m\u001b[0mparams\u001b[0m\u001b[0;34m,\u001b[0m \u001b[0mtrain_set\u001b[0m\u001b[0;34m=\u001b[0m\u001b[0mtrain_set\u001b[0m\u001b[0;34m)\u001b[0m\u001b[0;34m\u001b[0m\u001b[0;34m\u001b[0m\u001b[0m\n\u001b[0m\u001b[1;32m    229\u001b[0m         \u001b[0;32mif\u001b[0m \u001b[0mis_valid_contain_train\u001b[0m\u001b[0;34m:\u001b[0m\u001b[0;34m\u001b[0m\u001b[0;34m\u001b[0m\u001b[0m\n",
      "\u001b[0;32m/opt/miniconda3/envs/ironhack_env/lib/python3.7/site-packages/lightgbm/basic.py\u001b[0m in \u001b[0;36m__init__\u001b[0;34m(self, params, train_set, model_file, model_str, silent)\u001b[0m\n\u001b[1;32m   1663\u001b[0m             _safe_call(_LIB.LGBM_BoosterCreate(\n\u001b[0;32m-> 1664\u001b[0;31m                 \u001b[0mtrain_set\u001b[0m\u001b[0;34m.\u001b[0m\u001b[0mconstruct\u001b[0m\u001b[0;34m(\u001b[0m\u001b[0;34m)\u001b[0m\u001b[0;34m.\u001b[0m\u001b[0mhandle\u001b[0m\u001b[0;34m,\u001b[0m\u001b[0;34m\u001b[0m\u001b[0;34m\u001b[0m\u001b[0m\n\u001b[0m\u001b[1;32m   1665\u001b[0m                 \u001b[0mc_str\u001b[0m\u001b[0;34m(\u001b[0m\u001b[0mparams_str\u001b[0m\u001b[0;34m)\u001b[0m\u001b[0;34m,\u001b[0m\u001b[0;34m\u001b[0m\u001b[0;34m\u001b[0m\u001b[0m\n",
      "\u001b[0;32m/opt/miniconda3/envs/ironhack_env/lib/python3.7/site-packages/lightgbm/basic.py\u001b[0m in \u001b[0;36mconstruct\u001b[0;34m(self)\u001b[0m\n\u001b[1;32m   1036\u001b[0m                                 \u001b[0msilent\u001b[0m\u001b[0;34m=\u001b[0m\u001b[0mself\u001b[0m\u001b[0;34m.\u001b[0m\u001b[0msilent\u001b[0m\u001b[0;34m,\u001b[0m \u001b[0mfeature_name\u001b[0m\u001b[0;34m=\u001b[0m\u001b[0mself\u001b[0m\u001b[0;34m.\u001b[0m\u001b[0mfeature_name\u001b[0m\u001b[0;34m,\u001b[0m\u001b[0;34m\u001b[0m\u001b[0;34m\u001b[0m\u001b[0m\n\u001b[0;32m-> 1037\u001b[0;31m                                 categorical_feature=self.categorical_feature, params=self.params)\n\u001b[0m\u001b[1;32m   1038\u001b[0m             \u001b[0;32mif\u001b[0m \u001b[0mself\u001b[0m\u001b[0;34m.\u001b[0m\u001b[0mfree_raw_data\u001b[0m\u001b[0;34m:\u001b[0m\u001b[0;34m\u001b[0m\u001b[0;34m\u001b[0m\u001b[0m\n",
      "\u001b[0;32m/opt/miniconda3/envs/ironhack_env/lib/python3.7/site-packages/lightgbm/basic.py\u001b[0m in \u001b[0;36m_lazy_init\u001b[0;34m(self, data, label, reference, weight, group, init_score, predictor, silent, feature_name, categorical_feature, params)\u001b[0m\n\u001b[1;32m    838\u001b[0m         \u001b[0;32melif\u001b[0m \u001b[0misinstance\u001b[0m\u001b[0;34m(\u001b[0m\u001b[0mdata\u001b[0m\u001b[0;34m,\u001b[0m \u001b[0mnp\u001b[0m\u001b[0;34m.\u001b[0m\u001b[0mndarray\u001b[0m\u001b[0;34m)\u001b[0m\u001b[0;34m:\u001b[0m\u001b[0;34m\u001b[0m\u001b[0;34m\u001b[0m\u001b[0m\n\u001b[0;32m--> 839\u001b[0;31m             \u001b[0mself\u001b[0m\u001b[0;34m.\u001b[0m\u001b[0m__init_from_np2d\u001b[0m\u001b[0;34m(\u001b[0m\u001b[0mdata\u001b[0m\u001b[0;34m,\u001b[0m \u001b[0mparams_str\u001b[0m\u001b[0;34m,\u001b[0m \u001b[0mref_dataset\u001b[0m\u001b[0;34m)\u001b[0m\u001b[0;34m\u001b[0m\u001b[0;34m\u001b[0m\u001b[0m\n\u001b[0m\u001b[1;32m    840\u001b[0m         \u001b[0;32melif\u001b[0m \u001b[0misinstance\u001b[0m\u001b[0;34m(\u001b[0m\u001b[0mdata\u001b[0m\u001b[0;34m,\u001b[0m \u001b[0mlist\u001b[0m\u001b[0;34m)\u001b[0m \u001b[0;32mand\u001b[0m \u001b[0mlen\u001b[0m\u001b[0;34m(\u001b[0m\u001b[0mdata\u001b[0m\u001b[0;34m)\u001b[0m \u001b[0;34m>\u001b[0m \u001b[0;36m0\u001b[0m \u001b[0;32mand\u001b[0m \u001b[0mall\u001b[0m\u001b[0;34m(\u001b[0m\u001b[0misinstance\u001b[0m\u001b[0;34m(\u001b[0m\u001b[0mx\u001b[0m\u001b[0;34m,\u001b[0m \u001b[0mnp\u001b[0m\u001b[0;34m.\u001b[0m\u001b[0mndarray\u001b[0m\u001b[0;34m)\u001b[0m \u001b[0;32mfor\u001b[0m \u001b[0mx\u001b[0m \u001b[0;32min\u001b[0m \u001b[0mdata\u001b[0m\u001b[0;34m)\u001b[0m\u001b[0;34m:\u001b[0m\u001b[0;34m\u001b[0m\u001b[0;34m\u001b[0m\u001b[0m\n",
      "\u001b[0;32m/opt/miniconda3/envs/ironhack_env/lib/python3.7/site-packages/lightgbm/basic.py\u001b[0m in \u001b[0;36m__init_from_np2d\u001b[0;34m(self, mat, params_str, ref_dataset)\u001b[0m\n\u001b[1;32m    888\u001b[0m             \u001b[0mref_dataset\u001b[0m\u001b[0;34m,\u001b[0m\u001b[0;34m\u001b[0m\u001b[0;34m\u001b[0m\u001b[0m\n\u001b[0;32m--> 889\u001b[0;31m             ctypes.byref(self.handle)))\n\u001b[0m\u001b[1;32m    890\u001b[0m         \u001b[0;32mreturn\u001b[0m \u001b[0mself\u001b[0m\u001b[0;34m\u001b[0m\u001b[0;34m\u001b[0m\u001b[0m\n",
      "\u001b[0;32m/opt/miniconda3/envs/ironhack_env/lib/python3.7/site-packages/lightgbm/basic.py\u001b[0m in \u001b[0;36m_safe_call\u001b[0;34m(ret)\u001b[0m\n\u001b[1;32m     46\u001b[0m     \u001b[0;32mif\u001b[0m \u001b[0mret\u001b[0m \u001b[0;34m!=\u001b[0m \u001b[0;36m0\u001b[0m\u001b[0;34m:\u001b[0m\u001b[0;34m\u001b[0m\u001b[0;34m\u001b[0m\u001b[0m\n\u001b[0;32m---> 47\u001b[0;31m         \u001b[0;32mraise\u001b[0m \u001b[0mLightGBMError\u001b[0m\u001b[0;34m(\u001b[0m\u001b[0mdecode_string\u001b[0m\u001b[0;34m(\u001b[0m\u001b[0m_LIB\u001b[0m\u001b[0;34m.\u001b[0m\u001b[0mLGBM_GetLastError\u001b[0m\u001b[0;34m(\u001b[0m\u001b[0;34m)\u001b[0m\u001b[0;34m)\u001b[0m\u001b[0;34m)\u001b[0m\u001b[0;34m\u001b[0m\u001b[0;34m\u001b[0m\u001b[0m\n\u001b[0m\u001b[1;32m     48\u001b[0m \u001b[0;34m\u001b[0m\u001b[0m\n",
      "\u001b[0;31mLightGBMError\u001b[0m: Number of classes should be specified and greater than 1 for multiclass training",
      "\nDuring handling of the above exception, another exception occurred:\n",
      "\u001b[0;31mLightGBMError\u001b[0m                             Traceback (most recent call last)",
      "\u001b[0;32m<ipython-input-20-ed7931153190>\u001b[0m in \u001b[0;36m<module>\u001b[0;34m\u001b[0m\n\u001b[1;32m      2\u001b[0m         \u001b[0meval_set\u001b[0m\u001b[0;34m=\u001b[0m\u001b[0;34m[\u001b[0m\u001b[0;34m(\u001b[0m\u001b[0mX_test\u001b[0m\u001b[0;34m,\u001b[0m \u001b[0my_test\u001b[0m\u001b[0;34m)\u001b[0m\u001b[0;34m]\u001b[0m\u001b[0;34m,\u001b[0m\u001b[0;34m\u001b[0m\u001b[0;34m\u001b[0m\u001b[0m\n\u001b[1;32m      3\u001b[0m         \u001b[0meval_metric\u001b[0m\u001b[0;34m=\u001b[0m\u001b[0;34m'RMSLE'\u001b[0m\u001b[0;34m,\u001b[0m\u001b[0;34m\u001b[0m\u001b[0;34m\u001b[0m\u001b[0m\n\u001b[0;32m----> 4\u001b[0;31m         early_stopping_rounds=5)\n\u001b[0m",
      "\u001b[0;32m/opt/miniconda3/envs/ironhack_env/lib/python3.7/site-packages/lightgbm/sklearn.py\u001b[0m in \u001b[0;36mfit\u001b[0;34m(self, X, y, sample_weight, init_score, eval_set, eval_names, eval_sample_weight, eval_class_weight, eval_init_score, eval_metric, early_stopping_rounds, verbose, feature_name, categorical_feature, callbacks)\u001b[0m\n\u001b[1;32m    798\u001b[0m                                         \u001b[0mverbose\u001b[0m\u001b[0;34m=\u001b[0m\u001b[0mverbose\u001b[0m\u001b[0;34m,\u001b[0m \u001b[0mfeature_name\u001b[0m\u001b[0;34m=\u001b[0m\u001b[0mfeature_name\u001b[0m\u001b[0;34m,\u001b[0m\u001b[0;34m\u001b[0m\u001b[0;34m\u001b[0m\u001b[0m\n\u001b[1;32m    799\u001b[0m                                         \u001b[0mcategorical_feature\u001b[0m\u001b[0;34m=\u001b[0m\u001b[0mcategorical_feature\u001b[0m\u001b[0;34m,\u001b[0m\u001b[0;34m\u001b[0m\u001b[0;34m\u001b[0m\u001b[0m\n\u001b[0;32m--> 800\u001b[0;31m                                         callbacks=callbacks)\n\u001b[0m\u001b[1;32m    801\u001b[0m         \u001b[0;32mreturn\u001b[0m \u001b[0mself\u001b[0m\u001b[0;34m\u001b[0m\u001b[0;34m\u001b[0m\u001b[0m\n\u001b[1;32m    802\u001b[0m \u001b[0;34m\u001b[0m\u001b[0m\n",
      "\u001b[0;32m/opt/miniconda3/envs/ironhack_env/lib/python3.7/site-packages/lightgbm/sklearn.py\u001b[0m in \u001b[0;36mfit\u001b[0;34m(self, X, y, sample_weight, init_score, group, eval_set, eval_names, eval_sample_weight, eval_class_weight, eval_init_score, eval_group, eval_metric, early_stopping_rounds, verbose, feature_name, categorical_feature, callbacks)\u001b[0m\n\u001b[1;32m    593\u001b[0m                               \u001b[0mverbose_eval\u001b[0m\u001b[0;34m=\u001b[0m\u001b[0mverbose\u001b[0m\u001b[0;34m,\u001b[0m \u001b[0mfeature_name\u001b[0m\u001b[0;34m=\u001b[0m\u001b[0mfeature_name\u001b[0m\u001b[0;34m,\u001b[0m\u001b[0;34m\u001b[0m\u001b[0;34m\u001b[0m\u001b[0m\n\u001b[1;32m    594\u001b[0m                               \u001b[0mcategorical_feature\u001b[0m\u001b[0;34m=\u001b[0m\u001b[0mcategorical_feature\u001b[0m\u001b[0;34m,\u001b[0m\u001b[0;34m\u001b[0m\u001b[0;34m\u001b[0m\u001b[0m\n\u001b[0;32m--> 595\u001b[0;31m                               callbacks=callbacks)\n\u001b[0m\u001b[1;32m    596\u001b[0m \u001b[0;34m\u001b[0m\u001b[0m\n\u001b[1;32m    597\u001b[0m         \u001b[0;32mif\u001b[0m \u001b[0mevals_result\u001b[0m\u001b[0;34m:\u001b[0m\u001b[0;34m\u001b[0m\u001b[0;34m\u001b[0m\u001b[0m\n",
      "\u001b[0;32m/opt/miniconda3/envs/ironhack_env/lib/python3.7/site-packages/lightgbm/engine.py\u001b[0m in \u001b[0;36mtrain\u001b[0;34m(params, train_set, num_boost_round, valid_sets, valid_names, fobj, feval, init_model, feature_name, categorical_feature, early_stopping_rounds, evals_result, verbose_eval, learning_rates, keep_training_booster, callbacks)\u001b[0m\n\u001b[1;32m    232\u001b[0m             \u001b[0mbooster\u001b[0m\u001b[0;34m.\u001b[0m\u001b[0madd_valid\u001b[0m\u001b[0;34m(\u001b[0m\u001b[0mvalid_set\u001b[0m\u001b[0;34m,\u001b[0m \u001b[0mname_valid_set\u001b[0m\u001b[0;34m)\u001b[0m\u001b[0;34m\u001b[0m\u001b[0;34m\u001b[0m\u001b[0m\n\u001b[1;32m    233\u001b[0m     \u001b[0;32mfinally\u001b[0m\u001b[0;34m:\u001b[0m\u001b[0;34m\u001b[0m\u001b[0;34m\u001b[0m\u001b[0m\n\u001b[0;32m--> 234\u001b[0;31m         \u001b[0mtrain_set\u001b[0m\u001b[0;34m.\u001b[0m\u001b[0m_reverse_update_params\u001b[0m\u001b[0;34m(\u001b[0m\u001b[0;34m)\u001b[0m\u001b[0;34m\u001b[0m\u001b[0;34m\u001b[0m\u001b[0m\n\u001b[0m\u001b[1;32m    235\u001b[0m         \u001b[0;32mfor\u001b[0m \u001b[0mvalid_set\u001b[0m \u001b[0;32min\u001b[0m \u001b[0mreduced_valid_sets\u001b[0m\u001b[0;34m:\u001b[0m\u001b[0;34m\u001b[0m\u001b[0;34m\u001b[0m\u001b[0m\n\u001b[1;32m    236\u001b[0m             \u001b[0mvalid_set\u001b[0m\u001b[0;34m.\u001b[0m\u001b[0m_reverse_update_params\u001b[0m\u001b[0;34m(\u001b[0m\u001b[0;34m)\u001b[0m\u001b[0;34m\u001b[0m\u001b[0;34m\u001b[0m\u001b[0m\n",
      "\u001b[0;32m/opt/miniconda3/envs/ironhack_env/lib/python3.7/site-packages/lightgbm/basic.py\u001b[0m in \u001b[0;36m_reverse_update_params\u001b[0;34m(self)\u001b[0m\n\u001b[1;32m   1131\u001b[0m         \u001b[0mself\u001b[0m\u001b[0;34m.\u001b[0m\u001b[0mparams_back_up\u001b[0m \u001b[0;34m=\u001b[0m \u001b[0;32mNone\u001b[0m\u001b[0;34m\u001b[0m\u001b[0;34m\u001b[0m\u001b[0m\n\u001b[1;32m   1132\u001b[0m         \u001b[0;32mif\u001b[0m \u001b[0mself\u001b[0m\u001b[0;34m.\u001b[0m\u001b[0mhandle\u001b[0m \u001b[0;32mis\u001b[0m \u001b[0;32mnot\u001b[0m \u001b[0;32mNone\u001b[0m \u001b[0;32mand\u001b[0m \u001b[0mself\u001b[0m\u001b[0;34m.\u001b[0m\u001b[0mparams\u001b[0m \u001b[0;32mis\u001b[0m \u001b[0;32mnot\u001b[0m \u001b[0;32mNone\u001b[0m\u001b[0;34m:\u001b[0m\u001b[0;34m\u001b[0m\u001b[0;34m\u001b[0m\u001b[0m\n\u001b[0;32m-> 1133\u001b[0;31m             \u001b[0m_safe_call\u001b[0m\u001b[0;34m(\u001b[0m\u001b[0m_LIB\u001b[0m\u001b[0;34m.\u001b[0m\u001b[0mLGBM_DatasetUpdateParam\u001b[0m\u001b[0;34m(\u001b[0m\u001b[0mself\u001b[0m\u001b[0;34m.\u001b[0m\u001b[0mhandle\u001b[0m\u001b[0;34m,\u001b[0m \u001b[0mc_str\u001b[0m\u001b[0;34m(\u001b[0m\u001b[0mparam_dict_to_str\u001b[0m\u001b[0;34m(\u001b[0m\u001b[0mself\u001b[0m\u001b[0;34m.\u001b[0m\u001b[0mparams\u001b[0m\u001b[0;34m)\u001b[0m\u001b[0;34m)\u001b[0m\u001b[0;34m)\u001b[0m\u001b[0;34m)\u001b[0m\u001b[0;34m\u001b[0m\u001b[0;34m\u001b[0m\u001b[0m\n\u001b[0m\u001b[1;32m   1134\u001b[0m         \u001b[0;32mreturn\u001b[0m \u001b[0mself\u001b[0m\u001b[0;34m\u001b[0m\u001b[0;34m\u001b[0m\u001b[0m\n\u001b[1;32m   1135\u001b[0m \u001b[0;34m\u001b[0m\u001b[0m\n",
      "\u001b[0;32m/opt/miniconda3/envs/ironhack_env/lib/python3.7/site-packages/lightgbm/basic.py\u001b[0m in \u001b[0;36m_safe_call\u001b[0;34m(ret)\u001b[0m\n\u001b[1;32m     45\u001b[0m     \"\"\"\n\u001b[1;32m     46\u001b[0m     \u001b[0;32mif\u001b[0m \u001b[0mret\u001b[0m \u001b[0;34m!=\u001b[0m \u001b[0;36m0\u001b[0m\u001b[0;34m:\u001b[0m\u001b[0;34m\u001b[0m\u001b[0;34m\u001b[0m\u001b[0m\n\u001b[0;32m---> 47\u001b[0;31m         \u001b[0;32mraise\u001b[0m \u001b[0mLightGBMError\u001b[0m\u001b[0;34m(\u001b[0m\u001b[0mdecode_string\u001b[0m\u001b[0;34m(\u001b[0m\u001b[0m_LIB\u001b[0m\u001b[0;34m.\u001b[0m\u001b[0mLGBM_GetLastError\u001b[0m\u001b[0;34m(\u001b[0m\u001b[0;34m)\u001b[0m\u001b[0;34m)\u001b[0m\u001b[0;34m)\u001b[0m\u001b[0;34m\u001b[0m\u001b[0;34m\u001b[0m\u001b[0m\n\u001b[0m\u001b[1;32m     48\u001b[0m \u001b[0;34m\u001b[0m\u001b[0m\n\u001b[1;32m     49\u001b[0m \u001b[0;34m\u001b[0m\u001b[0m\n",
      "\u001b[0;31mLightGBMError\u001b[0m: Number of classes should be specified and greater than 1 for multiclass training"
     ]
    }
   ],
   "source": [
    "model.fit(X_train, y_train,\n",
    "        eval_set=[(X_test, y_test)],\n",
    "        eval_metric='RMSLE',\n",
    "        early_stopping_rounds=5)"
   ]
  },
  {
   "cell_type": "code",
   "execution_count": null,
   "metadata": {},
   "outputs": [],
   "source": [
    "def rae(y_true, y_pred):\n",
    "    return 'RAE', np.sum(np.abs(y_pred - y_true)) / np.sum(np.abs(np.mean(y_true) - y_true)), False"
   ]
  },
  {
   "cell_type": "markdown",
   "metadata": {},
   "source": [
    "PREDICTIONS"
   ]
  },
  {
   "cell_type": "code",
   "execution_count": null,
   "metadata": {},
   "outputs": [],
   "source": [
    "#pred\n",
    "y_pred = model.predict(X_test, num_iteration=model.best_iteration_)\n",
    "# eval\n",
    "print('The rmsle of prediction is:', rmsle(y_test, y_pred)[1])\n",
    "print('The rae of prediction is:', rae(y_test, y_pred)[1])"
   ]
  },
  {
   "cell_type": "code",
   "execution_count": null,
   "metadata": {},
   "outputs": [],
   "source": [
    "y_pred = model.predict(df_test[features])"
   ]
  },
  {
   "cell_type": "code",
   "execution_count": null,
   "metadata": {},
   "outputs": [],
   "source": [
    "df_test['num_features'] = y_pred"
   ]
  },
  {
   "cell_type": "code",
   "execution_count": null,
   "metadata": {},
   "outputs": [],
   "source": [
    "submission_v3_1609 = pd.DataFrame({'price': y_pred})"
   ]
  },
  {
   "cell_type": "code",
   "execution_count": null,
   "metadata": {},
   "outputs": [],
   "source": [
    "submission_v3_1609.index.name='id'"
   ]
  },
  {
   "cell_type": "code",
   "execution_count": null,
   "metadata": {},
   "outputs": [],
   "source": [
    "submission_v3_1609.head()"
   ]
  },
  {
   "cell_type": "code",
   "execution_count": null,
   "metadata": {},
   "outputs": [],
   "source": [
    "submission_v3_1609.describe()"
   ]
  },
  {
   "cell_type": "code",
   "execution_count": null,
   "metadata": {},
   "outputs": [],
   "source": [
    "#submission_v3_1609.price.clip(0, 20000, inplace=True)"
   ]
  },
  {
   "cell_type": "code",
   "execution_count": null,
   "metadata": {},
   "outputs": [],
   "source": [
    "#submission_v3_1609.to_csv('submission_v3_1609.csv')"
   ]
  },
  {
   "cell_type": "code",
   "execution_count": null,
   "metadata": {},
   "outputs": [],
   "source": []
  }
 ],
 "metadata": {
  "kernelspec": {
   "display_name": "Python [conda env:ironhack_env]",
   "language": "python",
   "name": "conda-env-ironhack_env-py"
  },
  "language_info": {
   "codemirror_mode": {
    "name": "ipython",
    "version": 3
   },
   "file_extension": ".py",
   "mimetype": "text/x-python",
   "name": "python",
   "nbconvert_exporter": "python",
   "pygments_lexer": "ipython3",
   "version": "3.7.3"
  }
 },
 "nbformat": 4,
 "nbformat_minor": 4
}
